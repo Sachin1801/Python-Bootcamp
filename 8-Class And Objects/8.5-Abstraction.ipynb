{
 "cells": [
  {
   "cell_type": "markdown",
   "metadata": {},
   "source": [
    "#### Abstraction\n",
    "Abstraction is the concept of hiding the complex implementation details and showing only the necessary features of an object. This helps in reducing programming complexity and effort."
   ]
  },
  {
   "cell_type": "code",
   "execution_count": 7,
   "metadata": {},
   "outputs": [
    {
     "name": "stdout",
     "output_type": "stream",
     "text": [
      "Car engine has been started\n",
      "The vehicle is used for driving\n",
      "True\n",
      "Car engine has been stopped\n",
      "False\n"
     ]
    }
   ],
   "source": [
    "from abc import ABC,abstractmethod\n",
    "\n",
    "## Abstract base cclass\n",
    "class Vehicle(ABC):\n",
    "    def __init__(self,status=False):\n",
    "        self._status=status\n",
    "    def drive(self):\n",
    "        print(\"The vehicle is used for driving\")\n",
    "\n",
    "    @abstractmethod\n",
    "    def start_engine(self): ##to use this method we will have to write our own defination in the derived class\n",
    "        pass\n",
    "    def stop_engine(self):\n",
    "        pass\n",
    "    def engine_status(self):\n",
    "        pass\n",
    "\n",
    "##derived class\n",
    "class Car(Vehicle):\n",
    "    def start_engine(self):\n",
    "        print(\"Car engine has been started\")\n",
    "        self._status = True\n",
    "    def stop_engine(self):\n",
    "        print(\"Car engine has been stopped\")\n",
    "        self._status=False\n",
    "    def engine_status(self):\n",
    "        print(self._status)\n",
    "\n",
    "def operate_vehicle(vehicle):\n",
    "    vehicle.start_engine()\n",
    "    vehicle.drive()\n",
    "    vehicle.engine_status()\n",
    "    vehicle.stop_engine()\n",
    "    vehicle.engine_status()\n",
    "\n",
    "car=Car(False)\n",
    "operate_vehicle(car)\n",
    "\n"
   ]
  },
  {
   "cell_type": "code",
   "execution_count": null,
   "metadata": {},
   "outputs": [],
   "source": []
  },
  {
   "cell_type": "code",
   "execution_count": null,
   "metadata": {},
   "outputs": [],
   "source": []
  },
  {
   "cell_type": "code",
   "execution_count": null,
   "metadata": {},
   "outputs": [],
   "source": []
  },
  {
   "cell_type": "code",
   "execution_count": null,
   "metadata": {},
   "outputs": [],
   "source": []
  },
  {
   "cell_type": "code",
   "execution_count": null,
   "metadata": {},
   "outputs": [],
   "source": []
  }
 ],
 "metadata": {
  "kernelspec": {
   "display_name": "Python 3 (ipykernel)",
   "language": "python",
   "name": "python3"
  },
  "language_info": {
   "codemirror_mode": {
    "name": "ipython",
    "version": 3
   },
   "file_extension": ".py",
   "mimetype": "text/x-python",
   "name": "python",
   "nbconvert_exporter": "python",
   "pygments_lexer": "ipython3",
   "version": "3.11.5"
  }
 },
 "nbformat": 4,
 "nbformat_minor": 2
}
